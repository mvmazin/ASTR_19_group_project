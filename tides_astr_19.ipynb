{
 "cells": [
  {
   "cell_type": "markdown",
   "id": "3ec1091a",
   "metadata": {},
   "source": [
    "#group project ASTR19\n",
    "#Shazer Rizzo \n",
    "#Xiomara Ermert-Espinosa \n",
    "#Misha Mazin"
   ]
  },
  {
   "cell_type": "code",
   "execution_count": 5,
   "id": "6a690469",
   "metadata": {},
   "outputs": [
    {
     "name": "stdout",
     "output_type": "stream",
     "text": [
      "works\n"
     ]
    }
   ],
   "source": [
    "print('IT works')"
   ]
  },
  {
   "cell_type": "code",
   "execution_count": 6,
   "id": "3be02848",
   "metadata": {},
   "outputs": [
    {
     "name": "stdout",
     "output_type": "stream",
     "text": [
      "kerneled\n"
     ]
    }
   ],
   "source": [
    "print(\"kerneled\")"
   ]
  },
  {
   "cell_type": "code",
   "execution_count": null,
   "id": "271b6095",
   "metadata": {},
   "outputs": [],
   "source": []
  }
 ],
 "metadata": {
  "kernelspec": {
   "display_name": "Python 3 (ipykernel)",
   "language": "python",
   "name": "python3"
  },
  "language_info": {
   "codemirror_mode": {
    "name": "ipython",
    "version": 3
   },
   "file_extension": ".py",
   "mimetype": "text/x-python",
   "name": "python",
   "nbconvert_exporter": "python",
   "pygments_lexer": "ipython3",
   "version": "3.10.13"
  }
 },
 "nbformat": 4,
 "nbformat_minor": 5
}
