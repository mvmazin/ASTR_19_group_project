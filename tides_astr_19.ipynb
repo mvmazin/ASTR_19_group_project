{
 "cells": [
  {
   "cell_type": "markdown",
   "id": "3ec1091a",
   "metadata": {},
   "source": [
    "#group project ASTR19\n",
    "#Shazer Rizzo \n",
    "#Xiomara Ermert-Espinosa \n",
    "#Misha Mazin"
   ]
  },
  {
   "cell_type": "markdown",
   "id": "be0a12cd",
   "metadata": {},
   "source": []
  },
  {
   "cell_type": "markdown",
   "id": "c7f5362f",
   "metadata": {},
   "source": [
    "Oxilary Function: "
   ]
  },
  {
   "cell_type": "code",
   "execution_count": null,
   "id": "6a690469",
   "metadata": {},
   "outputs": [],
   "source": [
    "def occillatory_func(x, A, B, C, D):\n",
    "    return A * np.sin(B * x + C) + D\n",
    "\n",
    "popt, pcov = curve_fit(oscillatory_func, x_data, y_data, sigma 0.25)"
   ]
  },
  {
   "cell_type": "code",
   "execution_count": null,
   "id": "5404eb81",
   "metadata": {},
   "outputs": [],
   "source": []
  },
  {
   "cell_type": "markdown",
   "id": "97335523",
   "metadata": {},
   "source": [
    "#Row A: Day of the year\n",
    "#Row B: Time in hours:minutes\n",
    "#Row B: Tide Height in feet"
   ]
  },
  {
   "cell_type": "code",
   "execution_count": null,
   "id": "3be02848",
   "metadata": {},
   "outputs": [],
   "source": [
    "NUMBER = [1,1,2,2,3,3,4,4,5,5,6,6,7,7,8,8,9,9,10,10,11,11,12,12,13,13,14,14,15,15,16,16,17,17,18,18,19,19,20,20,21,21,22,22,23,23,24,24,25,25,26,26,27,27,28,28,29,29,30,30,31,31,32,32,33,33,34,34,35,35,36,36,37,37,38,38,39,39,40,40,41,41]\n",
    "TIME = [487,900,535,985,585,1034,635,1080,688,1126,742,1171,804,1216,202,1261,247,1306,290,718,331,776,368,825,407,865,442,900,479,934,514,968,550,1001,585,1032,621,1065,657,1095,698,1128,745,1160,142,1192,178,1230,217,644,263,715,315,777,369,830,425,879,478,927,530,970,580,1012,630,1054,679,1092,730,1129,92,1164,133,1200,174,594,219,675,269,742,321,794]\n",
    "HEIGHT = [6.57,-0.39,5.38,-1.74,5.26,-1.36,4.13,-1.15,3.48,-1.61,2.62,0.05,1.83,1.01,3.57,0.73,4.54,2.17,3.76,2.88,3.90,1.92,4.73,1.74,5.66,0.79,5.33,-0.04,5.23,-1.12,6.67,-0.61,4.74,-0.93,4.69,-1.29,4.20,0.22,3.68,0.26,2.47,0.36,2.59, 0.99,4.10,1.87,3.17,1.60,3.71,3.10,4.04,2.49,4.07,2.18,5.93,0.70,6.89,0.21,6.72,0.22,6.77,-1.68,5.77,-1.32,4.35,-0.73,4.23,-0.38,2.24,-0.61,3.45,-0.46,4.13,1.21,3.34,2.58,3.32,3.26,5.21,2.39,4.83,2.41]"
   ]
  },
  {
   "cell_type": "code",
   "execution_count": null,
   "id": "271b6095",
   "metadata": {},
   "outputs": [],
   "source": []
  }
 ],
 "metadata": {
  "kernelspec": {
   "display_name": "Python 3 (ipykernel)",
   "language": "python",
   "name": "python3"
  },
  "language_info": {
   "codemirror_mode": {
    "name": "ipython",
    "version": 3
   },
   "file_extension": ".py",
   "mimetype": "text/x-python",
   "name": "python",
   "nbconvert_exporter": "python",
   "pygments_lexer": "ipython3",
   "version": "3.10.13"
  }
 },
 "nbformat": 4,
 "nbformat_minor": 5
}
