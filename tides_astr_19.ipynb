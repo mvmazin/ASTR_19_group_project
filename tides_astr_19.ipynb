{
 "cells": [
  {
   "cell_type": "markdown",
   "id": "3ec1091a",
   "metadata": {},
   "source": [
    "#group project ASTR19\n",
    "#Shazer Rizzo \n",
    "#Xiomara Ermert-Espinosa \n",
    "#Misha Mazin"
   ]
  },
  {
   "cell_type": "markdown",
   "id": "be0a12cd",
   "metadata": {},
   "source": []
  },
  {
   "cell_type": "markdown",
   "id": "c7f5362f",
   "metadata": {},
   "source": [
    "import numpy as np\n",
    "from scipy.optimize import curve_fit\n",
    "import matplotlib.pyplot as plt"
   ]
  },
  {
   "cell_type": "markdown",
   "id": "97335523",
   "metadata": {},
   "source": [
    "#Row A: Day of the year\n",
    "#Row B: Time in hours:minutes\n",
    "#Row B: Tide Height in feet "
   ]
  },
  {
   "cell_type": "code",
   "execution_count": null,
   "id": "3be02848",
   "metadata": {},
   "outputs": [],
   "source": [
    "#we hardcoded all the time info, but were asked to redo it by TA.\n",
    "#NUMBER = [1,1,2,2,3,3,4,4,5,5,6,6,7,7,8,8,9,9,10,10,11,11,12,12,13,13,14,14,15,15,16,16,17,17,18,18,19,19,20,20,21,21,22,22,23,23,24,24,25,25,26,26,27,27,28,28,29,29,30,30,31,31,32,32,33,33,34,34,35,35,36,36,37,37,38,38,39,39,40,40,41,41]\n",
    "#TIME = [487,900,535,985,585,1034,635,1080,688,1126,742,1171,804,1216,202,1261,247,1306,290,718,331,776,368,825,407,865,442,900,479,934,514,968,550,1001,585,1032,621,1065,657,1095,698,1128,745,1160,142,1192,178,1230,217,644,263,715,315,777,369,830,425,879,478,927,530,970,580,1012,630,1054,679,1092,730,1129,92,1164,133,1200,174,594,219,675,269,742,321,794]\n",
    "#HEIGHT = [6.57,-0.39,5.38,-1.74,5.26,-1.36,4.13,-1.15,3.48,-1.61,2.62,0.05,1.83,1.01,3.57,0.73,4.54,2.17,3.76,2.88,3.90,1.92,4.73,1.74,5.66,0.79,5.33,-0.04,5.23,-1.12,6.67,-0.61,4.74,-0.93,4.69,-1.29,4.20,0.22,3.68,0.26,2.47,0.36,2.59, 0.99,4.10,1.87,3.17,1.60,3.71,3.10,4.04,2.49,4.07,2.18,5.93,0.70,6.89,0.21,6.72,0.22,6.77,-1.68,5.77,-1.32,4.35,-0.73,4.23,-0.38,2.24,-0.61,3.45,-0.46,4.13,1.21,3.34,2.58,3.32,3.26,5.21,2.39,4.83,2.41]"
   ]
  },
  {
   "cell_type": "markdown",
   "id": "ee5cf7c5",
   "metadata": {},
   "source": [
    "Open File (with the data)"
   ]
  },
  {
   "cell_type": "code",
   "execution_count": null,
   "id": "271b6095",
   "metadata": {},
   "outputs": [],
   "source": [
    "file_path = 'ASTR19_F23_group_project_data.txt'\n",
    "with open(file_path, 'r') as file:\n",
    "    data = file.read()"
   ]
  },
  {
   "cell_type": "markdown",
   "id": "acf7e43b",
   "metadata": {},
   "source": [
    "Making the .txt file be separated into lists, and converting the time into a usable number for graphical analysis.\n",
    "A weird challenge were the header lines of the file, but because they had a \"#\" char as the beginning, we could skip them. "
   ]
  },
  {
   "cell_type": "code",
   "execution_count": null,
   "id": "265558f8",
   "metadata": {},
   "outputs": [],
   "source": [
    "lines = data.strip().split('\\n')\n",
    "days = []\n",
    "times = []\n",
    "tide_heights = []\n",
    "\n",
    "for line in lines:\n",
    "    if not line.startswith('#'):  # Skip header lines\n",
    "        parts = line.split()\n",
    "        days.append(int(parts[0]))\n",
    "        time_parts = parts[1].split(':')\n",
    "        hours = int(time_parts[0])\n",
    "        minutes = int(time_parts[1])\n",
    "        times.append(hours + minutes / 60)  # Convert time to hours\n",
    "        tide_heights.append(float(parts[2]))"
   ]
  },
  {
   "cell_type": "markdown",
   "id": "97581d86",
   "metadata": {},
   "source": [
    "Turned lists into numpy arrays. "
   ]
  },
  {
   "cell_type": "code",
   "execution_count": null,
   "id": "b0684ac2",
   "metadata": {},
   "outputs": [],
   "source": [
    "days = np.array(days)\n",
    "times = np.array(times)\n",
    "tide_heights = np.array(tide_heights)"
   ]
  },
  {
   "cell_type": "markdown",
   "id": "78571135",
   "metadata": {},
   "source": [
    "Getting somewhat useful data that might be needed later. "
   ]
  },
  {
   "cell_type": "code",
   "execution_count": null,
   "id": "268b5afb",
   "metadata": {},
   "outputs": [],
   "source": [
    "amplitude = np.max(tide_heights) - np.min(tide_heights)\n",
    "mean_level = np.mean(tide_heights)\n",
    "period = 12  # Guessed period, in hours, not scientific at all\n",
    "phase_shift_guess = 0"
   ]
  },
  {
   "cell_type": "markdown",
   "id": "db3ec1cd",
   "metadata": {},
   "source": [
    "Oscillatory Function: (edited)"
   ]
  },
  {
   "cell_type": "code",
   "execution_count": null,
   "id": "6a690469",
   "metadata": {},
   "outputs": [],
   "source": [
    "def oscillatory_func(x, A, B, C, D):\n",
    "    return A * np.sin(B * x + C) + D\n",
    "\n",
    "x_data = (days + times / 24)\n",
    "y_data = tide_heights\n",
    "\n",
    "popt, pcov = curve_fit(oscillatory_func, x_data, y_data, sigma = 0.25)"
   ]
  },
  {
   "cell_type": "markdown",
   "id": "ffa0d14f",
   "metadata": {},
   "source": [
    "Plotting the original data + best fit line"
   ]
  },
  {
   "cell_type": "code",
   "execution_count": null,
   "id": "7529b709",
   "metadata": {},
   "outputs": [],
   "source": [
    "x_fit = np.linspace(min(x_data), max(x_data), 1000)\n",
    "y_fit = oscillatory_func(x_fit, *popt)\n",
    "\n",
    "# Plotting the original data and the fitted curve\n",
    "plt.figure(figsize=(10, 6))\n",
    "plt.scatter(x_data, y_data, label='Original Data', color='lime')\n",
    "plt.plot(x_fit, y_fit, label='Fitted Curve', color='brown')\n",
    "plt.title('Fitted Curve of Tide Variation')\n",
    "plt.xlabel('Day of the year')\n",
    "plt.ylabel('Tide Height (feet)')\n",
    "plt.legend()\n",
    "plt.grid(True)\n",
    "plt.show()\n",
    "#plt.save will be needed, don't want to create files just yet though."
   ]
  }
 ],
 "metadata": {
  "kernelspec": {
   "display_name": "Python 3 (ipykernel)",
   "language": "python",
   "name": "python3"
  },
  "language_info": {
   "codemirror_mode": {
    "name": "ipython",
    "version": 3
   },
   "file_extension": ".py",
   "mimetype": "text/x-python",
   "name": "python",
   "nbconvert_exporter": "python",
   "pygments_lexer": "ipython3",
   "version": "3.10.13"
  }
 },
 "nbformat": 4,
 "nbformat_minor": 5
}
